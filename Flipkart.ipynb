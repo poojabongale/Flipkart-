{
  "nbformat": 4,
  "nbformat_minor": 0,
  "metadata": {
    "colab": {
      "provenance": [],
      "authorship_tag": "ABX9TyMwlb3JUtqtxJpn0vsQOP5m",
      "include_colab_link": true
    },
    "kernelspec": {
      "name": "python3",
      "display_name": "Python 3"
    },
    "language_info": {
      "name": "python"
    }
  },
  "cells": [
    {
      "cell_type": "markdown",
      "metadata": {
        "id": "view-in-github",
        "colab_type": "text"
      },
      "source": [
        "<a href=\"https://colab.research.google.com/github/poojabongale/Flipkart-Project/blob/main/Flipkart.ipynb\" target=\"_parent\"><img src=\"https://colab.research.google.com/assets/colab-badge.svg\" alt=\"Open In Colab\"/></a>"
      ]
    },
    {
      "cell_type": "markdown",
      "source": [
        "# **Flipkart Project**\n",
        "Predicting and Analyzing Customer Satisfaction at Flipkart Using Machine Learning and Sentiment Analysis\n",
        "\n",
        "A Machine learning project that predicts CSAT score based on customer remarks, response time for solving the issues of the customers, agent performance enabling Flipkart to improve customer satisfaction and retention."
      ],
      "metadata": {
        "id": "sbitiGxb3SVP"
      }
    },
    {
      "cell_type": "markdown",
      "source": [
        "# **Project** **Summary**\n",
        "Developed a machine learning solution to predict Customer Satisfaction (CSAT) scores using Flipkart customer service data. The project leveraged customer remarks, response time, agent performance, and order-related metadata to model customer sentiment and satisfaction levels.\n",
        "\n",
        "Performed feature engineering by calculating response time in minutes and extracting sentiment polarity from customer remarks using vader sentiment analyser. Trained a Random Forest Classifier,Logistic Regression and HistGradientBoostingClassifier to capture non-linear relationships between features and satisfaction scores, achieving strong performance.\n",
        "\n",
        "To move beyond prediction, implemented prescriptive logic:\n",
        "\n",
        "Tickets with predicted CSAT < 3 were flagged for escalation to senior agents.\n",
        "\n",
        "Support agents with average response times > 45 minutes were flagged for training, based on grouped analysis."
      ],
      "metadata": {
        "id": "FLPuYckLfjE4"
      }
    },
    {
      "cell_type": "markdown",
      "source": [
        "# GITHub **Link**\n",
        "https://github.com/poojabongale/Flipkart-Project/blob/main/Flipkart.ipynb"
      ],
      "metadata": {
        "id": "dB1uEjqQdsSl"
      }
    },
    {
      "cell_type": "markdown",
      "source": [
        "# **Data** **Wrangling**\n"
      ],
      "metadata": {
        "id": "c00BMZZx3dhj"
      }
    },
    {
      "cell_type": "markdown",
      "source": [
        "Libraries used:\n",
        "\n",
        "Pandas: Data Manipulation\n",
        "\n",
        "Numpy: Working with linear algebra\n",
        "\n",
        "Matplotlib and Seaborn: Visualization library\n",
        "\n",
        "TextBlob: Providing sentiment scores to customer remarks\n",
        "\n",
        "Sklearn : Tools for machine learning and modelling\n"
      ],
      "metadata": {
        "id": "YWiwCeTjn1Kh"
      }
    },
    {
      "cell_type": "markdown",
      "source": [
        "# **About the data**\n",
        "The data is fetched from customer_support_Data.csv file and it consists of the following parameters\n",
        "\n",
        "\n",
        "Unique id : Unique identifier for each record\n",
        "\n",
        "Channel name : Name of the customer service channel\n",
        "\n",
        "Category : Category of the interaction\n",
        "\n",
        "Sub-category : Sub-category of the interaction\n",
        "\n",
        "Customer Remarks : Feedback provided by the customer\n",
        "\n",
        "Order id : Unique id given to each order\n",
        "\n",
        "Order date time : Date and time of the order placed\n",
        "\n",
        "Issue reported at : Time when the issue was reported\n",
        "\n",
        "Issue responded : Time when the issue was responded to\n",
        "\n",
        "Survey response date : Date of the customer survey response\n",
        "\n",
        "Customer city : City of the customer\n",
        "\n",
        "Product category : Category of the product\n",
        "\n",
        "Item price : Price of the item\n",
        "\n",
        "Connected handling time : Time taken to handle the interaction\n",
        "\n",
        "Agent name : Name of the customer service agent\n",
        "\n",
        "Supervisor : Name of the supervisor\n",
        "\n",
        "Manager : Name of the manager\n",
        "\n",
        "Tenure Bucket : Bucket categorizing agent tenure\n",
        "\n",
        "Agent Shift : Shift timing of the agent\n",
        "\n",
        "CSAT Score : Customer Satisfaction (CSAT) score"
      ],
      "metadata": {
        "id": "nMArIwOmofG7"
      }
    },
    {
      "cell_type": "markdown",
      "source": [
        "# **Importing the libraries**"
      ],
      "metadata": {
        "id": "Wi8ZePXoyCta"
      }
    },
    {
      "cell_type": "code",
      "source": [
        "import pandas as pd\n",
        "import numpy as np\n",
        "import matplotlib.pyplot as plt\n",
        "import seaborn as sns\n",
        "!pip install TextBlob"
      ],
      "metadata": {
        "id": "V2tvSfVw3bgv",
        "colab": {
          "base_uri": "https://localhost:8080/"
        },
        "outputId": "99193d00-de3d-431e-ee17-ea3453e3e9f8"
      },
      "execution_count": 3,
      "outputs": [
        {
          "output_type": "stream",
          "name": "stdout",
          "text": [
            "Requirement already satisfied: TextBlob in /usr/local/lib/python3.11/dist-packages (0.19.0)\n",
            "Requirement already satisfied: nltk>=3.9 in /usr/local/lib/python3.11/dist-packages (from TextBlob) (3.9.1)\n",
            "Requirement already satisfied: click in /usr/local/lib/python3.11/dist-packages (from nltk>=3.9->TextBlob) (8.2.1)\n",
            "Requirement already satisfied: joblib in /usr/local/lib/python3.11/dist-packages (from nltk>=3.9->TextBlob) (1.5.1)\n",
            "Requirement already satisfied: regex>=2021.8.3 in /usr/local/lib/python3.11/dist-packages (from nltk>=3.9->TextBlob) (2024.11.6)\n",
            "Requirement already satisfied: tqdm in /usr/local/lib/python3.11/dist-packages (from nltk>=3.9->TextBlob) (4.67.1)\n"
          ]
        }
      ]
    },
    {
      "cell_type": "code",
      "source": [
        "#Loading th dataset\n",
        "df = pd.read_csv('/content/Customer_support_data.csv')"
      ],
      "metadata": {
        "id": "mOfReqVt30FI"
      },
      "execution_count": 4,
      "outputs": []
    },
    {
      "cell_type": "code",
      "source": [
        "#checking the total number of null values in the columns\n",
        "df.info()"
      ],
      "metadata": {
        "colab": {
          "base_uri": "https://localhost:8080/"
        },
        "id": "o_-TrUqG4NfC",
        "outputId": "8459f38c-fc20-43a2-baa0-5d8aa4056071"
      },
      "execution_count": 5,
      "outputs": [
        {
          "output_type": "stream",
          "name": "stdout",
          "text": [
            "<class 'pandas.core.frame.DataFrame'>\n",
            "RangeIndex: 85907 entries, 0 to 85906\n",
            "Data columns (total 20 columns):\n",
            " #   Column                   Non-Null Count  Dtype  \n",
            "---  ------                   --------------  -----  \n",
            " 0   Unique id                85907 non-null  object \n",
            " 1   channel_name             85907 non-null  object \n",
            " 2   category                 85907 non-null  object \n",
            " 3   Sub-category             85907 non-null  object \n",
            " 4   Customer Remarks         28742 non-null  object \n",
            " 5   Order_id                 67675 non-null  object \n",
            " 6   order_date_time          17214 non-null  object \n",
            " 7   Issue_reported at        85907 non-null  object \n",
            " 8   issue_responded          85907 non-null  object \n",
            " 9   Survey_response_Date     85907 non-null  object \n",
            " 10  Customer_City            17079 non-null  object \n",
            " 11  Product_category         17196 non-null  object \n",
            " 12  Item_price               17206 non-null  float64\n",
            " 13  connected_handling_time  242 non-null    float64\n",
            " 14  Agent_name               85907 non-null  object \n",
            " 15  Supervisor               85907 non-null  object \n",
            " 16  Manager                  85907 non-null  object \n",
            " 17  Tenure Bucket            85907 non-null  object \n",
            " 18  Agent Shift              85907 non-null  object \n",
            " 19  CSAT Score               85907 non-null  int64  \n",
            "dtypes: float64(2), int64(1), object(17)\n",
            "memory usage: 13.1+ MB\n"
          ]
        }
      ]
    },
    {
      "cell_type": "code",
      "source": [
        "#Check for missing values\n",
        "df.isnull().sum()"
      ],
      "metadata": {
        "colab": {
          "base_uri": "https://localhost:8080/",
          "height": 711
        },
        "id": "Z6EpI6UMyg74",
        "outputId": "3faf5c16-7ad5-48e0-b4a4-1af3a5d8a21c"
      },
      "execution_count": 6,
      "outputs": [
        {
          "output_type": "execute_result",
          "data": {
            "text/plain": [
              "Unique id                      0\n",
              "channel_name                   0\n",
              "category                       0\n",
              "Sub-category                   0\n",
              "Customer Remarks           57165\n",
              "Order_id                   18232\n",
              "order_date_time            68693\n",
              "Issue_reported at              0\n",
              "issue_responded                0\n",
              "Survey_response_Date           0\n",
              "Customer_City              68828\n",
              "Product_category           68711\n",
              "Item_price                 68701\n",
              "connected_handling_time    85665\n",
              "Agent_name                     0\n",
              "Supervisor                     0\n",
              "Manager                        0\n",
              "Tenure Bucket                  0\n",
              "Agent Shift                    0\n",
              "CSAT Score                     0\n",
              "dtype: int64"
            ],
            "text/html": [
              "<div>\n",
              "<style scoped>\n",
              "    .dataframe tbody tr th:only-of-type {\n",
              "        vertical-align: middle;\n",
              "    }\n",
              "\n",
              "    .dataframe tbody tr th {\n",
              "        vertical-align: top;\n",
              "    }\n",
              "\n",
              "    .dataframe thead th {\n",
              "        text-align: right;\n",
              "    }\n",
              "</style>\n",
              "<table border=\"1\" class=\"dataframe\">\n",
              "  <thead>\n",
              "    <tr style=\"text-align: right;\">\n",
              "      <th></th>\n",
              "      <th>0</th>\n",
              "    </tr>\n",
              "  </thead>\n",
              "  <tbody>\n",
              "    <tr>\n",
              "      <th>Unique id</th>\n",
              "      <td>0</td>\n",
              "    </tr>\n",
              "    <tr>\n",
              "      <th>channel_name</th>\n",
              "      <td>0</td>\n",
              "    </tr>\n",
              "    <tr>\n",
              "      <th>category</th>\n",
              "      <td>0</td>\n",
              "    </tr>\n",
              "    <tr>\n",
              "      <th>Sub-category</th>\n",
              "      <td>0</td>\n",
              "    </tr>\n",
              "    <tr>\n",
              "      <th>Customer Remarks</th>\n",
              "      <td>57165</td>\n",
              "    </tr>\n",
              "    <tr>\n",
              "      <th>Order_id</th>\n",
              "      <td>18232</td>\n",
              "    </tr>\n",
              "    <tr>\n",
              "      <th>order_date_time</th>\n",
              "      <td>68693</td>\n",
              "    </tr>\n",
              "    <tr>\n",
              "      <th>Issue_reported at</th>\n",
              "      <td>0</td>\n",
              "    </tr>\n",
              "    <tr>\n",
              "      <th>issue_responded</th>\n",
              "      <td>0</td>\n",
              "    </tr>\n",
              "    <tr>\n",
              "      <th>Survey_response_Date</th>\n",
              "      <td>0</td>\n",
              "    </tr>\n",
              "    <tr>\n",
              "      <th>Customer_City</th>\n",
              "      <td>68828</td>\n",
              "    </tr>\n",
              "    <tr>\n",
              "      <th>Product_category</th>\n",
              "      <td>68711</td>\n",
              "    </tr>\n",
              "    <tr>\n",
              "      <th>Item_price</th>\n",
              "      <td>68701</td>\n",
              "    </tr>\n",
              "    <tr>\n",
              "      <th>connected_handling_time</th>\n",
              "      <td>85665</td>\n",
              "    </tr>\n",
              "    <tr>\n",
              "      <th>Agent_name</th>\n",
              "      <td>0</td>\n",
              "    </tr>\n",
              "    <tr>\n",
              "      <th>Supervisor</th>\n",
              "      <td>0</td>\n",
              "    </tr>\n",
              "    <tr>\n",
              "      <th>Manager</th>\n",
              "      <td>0</td>\n",
              "    </tr>\n",
              "    <tr>\n",
              "      <th>Tenure Bucket</th>\n",
              "      <td>0</td>\n",
              "    </tr>\n",
              "    <tr>\n",
              "      <th>Agent Shift</th>\n",
              "      <td>0</td>\n",
              "    </tr>\n",
              "    <tr>\n",
              "      <th>CSAT Score</th>\n",
              "      <td>0</td>\n",
              "    </tr>\n",
              "  </tbody>\n",
              "</table>\n",
              "</div><br><label><b>dtype:</b> int64</label>"
            ]
          },
          "metadata": {},
          "execution_count": 6
        }
      ]
    },
    {
      "cell_type": "code",
      "source": [
        "#Handling the missing values\n",
        "df['Customer Remarks'] = df['Customer Remarks'].fillna(0)\n",
        "df['Customer_City'] = df['Customer_City'].fillna('Unknown')\n",
        "df['Product_category'] = df['Product_category'].fillna('Unknown')\n",
        "df['Item_price'] = df.groupby('Product_category')['Item_price'].transform(lambda x: x.fillna(x.median()))\n",
        "df['order_date_time'] = df['order_date_time'].fillna('Unknown')\n",
        "df['was_order_related'] = df['Order_id'].notnull().astype(int)\n",
        "df['Order_id'] = df['Order_id'].fillna(\"No_Order\")\n",
        "\n"
      ],
      "metadata": {
        "id": "mDSTq4nt5Kol"
      },
      "execution_count": 7,
      "outputs": []
    },
    {
      "cell_type": "code",
      "source": [
        "df.isnull().sum()"
      ],
      "metadata": {
        "colab": {
          "base_uri": "https://localhost:8080/",
          "height": 743
        },
        "id": "6NjcGpRGqHk1",
        "outputId": "5d58b4c5-0f51-4f09-a9b8-943cd3197614"
      },
      "execution_count": 8,
      "outputs": [
        {
          "output_type": "execute_result",
          "data": {
            "text/plain": [
              "Unique id                      0\n",
              "channel_name                   0\n",
              "category                       0\n",
              "Sub-category                   0\n",
              "Customer Remarks               0\n",
              "Order_id                       0\n",
              "order_date_time                0\n",
              "Issue_reported at              0\n",
              "issue_responded                0\n",
              "Survey_response_Date           0\n",
              "Customer_City                  0\n",
              "Product_category               0\n",
              "Item_price                     0\n",
              "connected_handling_time    85665\n",
              "Agent_name                     0\n",
              "Supervisor                     0\n",
              "Manager                        0\n",
              "Tenure Bucket                  0\n",
              "Agent Shift                    0\n",
              "CSAT Score                     0\n",
              "was_order_related              0\n",
              "dtype: int64"
            ],
            "text/html": [
              "<div>\n",
              "<style scoped>\n",
              "    .dataframe tbody tr th:only-of-type {\n",
              "        vertical-align: middle;\n",
              "    }\n",
              "\n",
              "    .dataframe tbody tr th {\n",
              "        vertical-align: top;\n",
              "    }\n",
              "\n",
              "    .dataframe thead th {\n",
              "        text-align: right;\n",
              "    }\n",
              "</style>\n",
              "<table border=\"1\" class=\"dataframe\">\n",
              "  <thead>\n",
              "    <tr style=\"text-align: right;\">\n",
              "      <th></th>\n",
              "      <th>0</th>\n",
              "    </tr>\n",
              "  </thead>\n",
              "  <tbody>\n",
              "    <tr>\n",
              "      <th>Unique id</th>\n",
              "      <td>0</td>\n",
              "    </tr>\n",
              "    <tr>\n",
              "      <th>channel_name</th>\n",
              "      <td>0</td>\n",
              "    </tr>\n",
              "    <tr>\n",
              "      <th>category</th>\n",
              "      <td>0</td>\n",
              "    </tr>\n",
              "    <tr>\n",
              "      <th>Sub-category</th>\n",
              "      <td>0</td>\n",
              "    </tr>\n",
              "    <tr>\n",
              "      <th>Customer Remarks</th>\n",
              "      <td>0</td>\n",
              "    </tr>\n",
              "    <tr>\n",
              "      <th>Order_id</th>\n",
              "      <td>0</td>\n",
              "    </tr>\n",
              "    <tr>\n",
              "      <th>order_date_time</th>\n",
              "      <td>0</td>\n",
              "    </tr>\n",
              "    <tr>\n",
              "      <th>Issue_reported at</th>\n",
              "      <td>0</td>\n",
              "    </tr>\n",
              "    <tr>\n",
              "      <th>issue_responded</th>\n",
              "      <td>0</td>\n",
              "    </tr>\n",
              "    <tr>\n",
              "      <th>Survey_response_Date</th>\n",
              "      <td>0</td>\n",
              "    </tr>\n",
              "    <tr>\n",
              "      <th>Customer_City</th>\n",
              "      <td>0</td>\n",
              "    </tr>\n",
              "    <tr>\n",
              "      <th>Product_category</th>\n",
              "      <td>0</td>\n",
              "    </tr>\n",
              "    <tr>\n",
              "      <th>Item_price</th>\n",
              "      <td>0</td>\n",
              "    </tr>\n",
              "    <tr>\n",
              "      <th>connected_handling_time</th>\n",
              "      <td>85665</td>\n",
              "    </tr>\n",
              "    <tr>\n",
              "      <th>Agent_name</th>\n",
              "      <td>0</td>\n",
              "    </tr>\n",
              "    <tr>\n",
              "      <th>Supervisor</th>\n",
              "      <td>0</td>\n",
              "    </tr>\n",
              "    <tr>\n",
              "      <th>Manager</th>\n",
              "      <td>0</td>\n",
              "    </tr>\n",
              "    <tr>\n",
              "      <th>Tenure Bucket</th>\n",
              "      <td>0</td>\n",
              "    </tr>\n",
              "    <tr>\n",
              "      <th>Agent Shift</th>\n",
              "      <td>0</td>\n",
              "    </tr>\n",
              "    <tr>\n",
              "      <th>CSAT Score</th>\n",
              "      <td>0</td>\n",
              "    </tr>\n",
              "    <tr>\n",
              "      <th>was_order_related</th>\n",
              "      <td>0</td>\n",
              "    </tr>\n",
              "  </tbody>\n",
              "</table>\n",
              "</div><br><label><b>dtype:</b> int64</label>"
            ]
          },
          "metadata": {},
          "execution_count": 8
        }
      ]
    },
    {
      "cell_type": "markdown",
      "source": [
        "# **Plot for CSAT scores vs No of Responses**"
      ],
      "metadata": {
        "id": "Frvgthmryrjj"
      }
    },
    {
      "cell_type": "code",
      "source": [
        "plt.figure(figsize=(8, 5))\n",
        "\n",
        "sns.countplot(data=df, x='CSAT Score', palette='flare')\n",
        "\n",
        "plt.title(\"Distribution of Customer Satisfaction (CSAT) Scores\", fontsize=14, fontweight='bold')\n",
        "plt.xlabel(\"CSAT Score\", fontsize=12,fontweight = 'bold')\n",
        "plt.ylabel(\"Number of Responses\", fontsize=12,fontweight = 'bold')\n",
        "\n",
        "plt.show()\n"
      ],
      "metadata": {
        "colab": {
          "base_uri": "https://localhost:8080/",
          "height": 579
        },
        "id": "-jOkCVAD8Jl5",
        "outputId": "a71cc0e5-3f7e-4649-a9f8-a1cce76c0d2a"
      },
      "execution_count": 9,
      "outputs": [
        {
          "output_type": "stream",
          "name": "stderr",
          "text": [
            "/tmp/ipython-input-9-1270078976.py:3: FutureWarning: \n",
            "\n",
            "Passing `palette` without assigning `hue` is deprecated and will be removed in v0.14.0. Assign the `x` variable to `hue` and set `legend=False` for the same effect.\n",
            "\n",
            "  sns.countplot(data=df, x='CSAT Score', palette='flare')\n"
          ]
        },
        {
          "output_type": "display_data",
          "data": {
            "text/plain": [
              "<Figure size 800x500 with 1 Axes>"
            ],
            "image/png": "[encoded data removed]"
          },
          "metadata": {}
        }
      ]
    },
    {
      "cell_type": "markdown",
      "source": [
        "In this graph the relationshio between CSAT score and no. of responses is displayed. Approximately 10K-11k customers have given 1 CSAT Score. More the responses better to classify and understand the customer satisfaction.  "
      ],
      "metadata": {
        "id": "F5PsvonTdz7u"
      }
    },
    {
      "cell_type": "code",
      "source": [
        "#Converting the customer remarks to a sentiment score using TextBlob\n",
        "from textblob import TextBlob\n",
        "\n",
        "# Safely convert all entries to string (including numbers or NaN)\n",
        "df['Customer Remarks'] = df['Customer Remarks'].astype(str)\n",
        "\n",
        "# Now apply TextBlob sentiment polarity\n",
        "df['remark_sentiment'] = df['Customer Remarks'].apply(lambda x: TextBlob(x).sentiment.polarity)\n"
      ],
      "metadata": {
        "id": "IrXo0LH7aBJY"
      },
      "execution_count": 10,
      "outputs": []
    },
    {
      "cell_type": "markdown",
      "source": [
        "# **Plot for Sentiment score vs CSAT score**"
      ],
      "metadata": {
        "id": "pi32G7I6zFQJ"
      }
    },
    {
      "cell_type": "code",
      "source": [
        "plt.figure(figsize=(8, 6))\n",
        "sns.scatterplot(x=df['remark_sentiment'], y=df['CSAT Score'], alpha=0.6, color='teal')\n",
        "\n",
        "plt.title(\"Sentiment Polarity vs CSAT Score\", fontsize=15, fontweight='bold')\n",
        "plt.xlabel(\"Sentiment Score (from Customer Remarks)\")\n",
        "plt.ylabel(\"CSAT Score\")\n",
        "plt.grid(True, linestyle='--', alpha=0.5)\n",
        "plt.show()"
      ],
      "metadata": {
        "colab": {
          "base_uri": "https://localhost:8080/",
          "height": 566
        },
        "id": "O6Mhl1wpbuoI",
        "outputId": "0df2baed-8f6b-40db-caa8-b49780b68f86"
      },
      "execution_count": 11,
      "outputs": [
        {
          "output_type": "display_data",
          "data": {
            "text/plain": [
              "<Figure size 800x600 with 1 Axes>"
            ],
            "image/png": "[encoded data removed]"
          },
          "metadata": {}
        }
      ]
    },
    {
      "cell_type": "markdown",
      "source": [
        "So this graph helps in understanding how customer remarks can influence CSAT score. Here the customer remarks are converted to a numeric score so that it can be plotted on a graph. If the sentiment score is -1(very negative) then the CSAT score is 1(dissatisified). But on contrary there are few cases in which the sentiment score is 1(very positive) but the CSAT score is -1, this is because the model that I have used is TextBlob which is a rule based sentiment analysis that fails to understand sarcasm. For eg. If one customer remarks is \"My service was delayed by 4 hours and thanks to the agent who did nothing.\" So here the customer is stating resentment but the model mistakes the remark as positive because of the work \"thanks\"."
      ],
      "metadata": {
        "id": "x-skoLEucjUz"
      }
    },
    {
      "cell_type": "markdown",
      "source": [
        "# Predicting the CSAT scores in future"
      ],
      "metadata": {
        "id": "cR97ljfb_fDv"
      }
    },
    {
      "cell_type": "markdown",
      "source": [
        "# **Random Forest Classifier**"
      ],
      "metadata": {
        "id": "lkZ3MFaEfXnx"
      }
    },
    {
      "cell_type": "markdown",
      "source": [
        "In the following code CSAT score is predicted based on a number of parameters such as the response time to the issues(how quickly the issue is resolved), customer remarks, order time and date. With these parameters the model helps in predicting the future csat scores."
      ],
      "metadata": {
        "id": "v1j9VREheRPQ"
      }
    },
    {
      "cell_type": "code",
      "source": [
        "df['Issue_reported at'] = pd.to_datetime(df['Issue_reported at'], format='%d/%m/%Y %H:%M')\n",
        "df['issue_responded'] = pd.to_datetime(df['issue_responded'], format='%d/%m/%Y %H:%M')\n",
        "\n",
        "df['response_time_minutes'] = (df['issue_responded'] - df['Issue_reported at']).dt.total_seconds() / 60\n",
        "\n",
        "df['Customer_City'] = df['Customer_City'].fillna('Unknown')\n",
        "df['Product_category'] = df['Product_category'].fillna('Unknown')\n",
        "\n",
        "df['has_remarks'] = df['Customer Remarks'].notnull().astype(int)\n",
        "df['was_order_related'] = df['Order_id'].notnull().astype(int)"
      ],
      "metadata": {
        "id": "OJeP6ewL_ieW"
      },
      "execution_count": 12,
      "outputs": []
    },
    {
      "cell_type": "code",
      "source": [
        "!pip install vaderSentiment\n",
        "from vaderSentiment.vaderSentiment import SentimentIntensityAnalyzer\n",
        "analyzer = SentimentIntensityAnalyzer()\n",
        "\n",
        "df['remark_sentiment'] = df['Customer Remarks'].astype(str).apply(\n",
        "    lambda x: analyzer.polarity_scores(x)['compound']\n",
        ")\n"
      ],
      "metadata": {
        "colab": {
          "base_uri": "https://localhost:8080/"
        },
        "id": "w4WTOq8mSeA2",
        "outputId": "1356b19d-f5a7-4beb-ae33-eb1507818c82"
      },
      "execution_count": 13,
      "outputs": [
        {
          "output_type": "stream",
          "name": "stdout",
          "text": [
            "Collecting vaderSentiment\n",
            "  Downloading vaderSentiment-3.3.2-py2.py3-none-any.whl.metadata (572 bytes)\n",
            "Requirement already satisfied: requests in /usr/local/lib/python3.11/dist-packages (from vaderSentiment) (2.32.3)\n",
            "Requirement already satisfied: charset-normalizer<4,>=2 in /usr/local/lib/python3.11/dist-packages (from requests->vaderSentiment) (3.4.2)\n",
            "Requirement already satisfied: idna<4,>=2.5 in /usr/local/lib/python3.11/dist-packages (from requests->vaderSentiment) (3.10)\n",
            "Requirement already satisfied: urllib3<3,>=1.21.1 in /usr/local/lib/python3.11/dist-packages (from requests->vaderSentiment) (2.4.0)\n",
            "Requirement already satisfied: certifi>=2017.4.17 in /usr/local/lib/python3.11/dist-packages (from requests->vaderSentiment) (2025.6.15)\n",
            "Downloading vaderSentiment-3.3.2-py2.py3-none-any.whl (125 kB)\n",
            "\u001b[?25l   \u001b[90m━━━━━━━━━━━━━━━━━━━━━━━━━━━━━━━━━━━━━━━━\u001b[0m \u001b[32m0.0/126.0 kB\u001b[0m \u001b[31m?\u001b[0m eta \u001b[36m-:--:--\u001b[0m\r\u001b[2K   \u001b[91m━━━━━━━━━━━━━━━━━━━━━━━━━━━━━━━━━━━━━━━\u001b[0m\u001b[90m╺\u001b[0m \u001b[32m122.9/126.0 kB\u001b[0m \u001b[31m3.4 MB/s\u001b[0m eta \u001b[36m0:00:01\u001b[0m\r\u001b[2K   \u001b[90m━━━━━━━━━━━━━━━━━━━━━━━━━━━━━━━━━━━━━━━━\u001b[0m \u001b[32m126.0/126.0 kB\u001b[0m \u001b[31m2.7 MB/s\u001b[0m eta \u001b[36m0:00:00\u001b[0m\n",
            "\u001b[?25hInstalling collected packages: vaderSentiment\n",
            "Successfully installed vaderSentiment-3.3.2\n"
          ]
        }
      ]
    },
    {
      "cell_type": "code",
      "source": [
        "# Length of remark — helps capture detail in the message\n",
        "df['remark_length'] = df['Customer Remarks'].astype(str).apply(len)"
      ],
      "metadata": {
        "id": "S1zmwnvgRSBu"
      },
      "execution_count": 14,
      "outputs": []
    },
    {
      "cell_type": "code",
      "source": [
        "# Time of day (extract from order_date_time if available)\n",
        "df['order_hour'] = pd.to_datetime(df['order_date_time'], errors='coerce').dt.hour"
      ],
      "metadata": {
        "colab": {
          "base_uri": "https://localhost:8080/"
        },
        "id": "jaLUv0xSRVYo",
        "outputId": "f7f3a832-71ef-4feb-b38a-d27dc09cfe3d"
      },
      "execution_count": 15,
      "outputs": [
        {
          "output_type": "stream",
          "name": "stderr",
          "text": [
            "/tmp/ipython-input-15-2530433093.py:2: UserWarning: Could not infer format, so each element will be parsed individually, falling back to `dateutil`. To ensure parsing is consistent and as-expected, please specify a format.\n",
            "  df['order_hour'] = pd.to_datetime(df['order_date_time'], errors='coerce').dt.hour\n"
          ]
        }
      ]
    },
    {
      "cell_type": "markdown",
      "source": [
        "The following code predicts the future CSAT scores based on the features such as sentiment score, response time and order_date_time.\n",
        "Random Forest is a robust supervised machine learning model that works well with categorical and numeric data. It works efficiently well even with missing data, outliers and noisy dataset. Apart from this it automatically captures non linear relationship (sentiment score and CSAT score)."
      ],
      "metadata": {
        "id": "8_FPsiw7iRwM"
      }
    },
    {
      "cell_type": "code",
      "source": [
        "def bucket(score):\n",
        "    if score <= 2:\n",
        "        return \"Low\"\n",
        "    elif score == 3:\n",
        "        return \"Medium\"\n",
        "    else:\n",
        "        return \"High\"\n",
        "\n",
        "df['CSAT_Level'] = df['CSAT Score'].apply(bucket)\n"
      ],
      "metadata": {
        "id": "2xz53mFUTIe2"
      },
      "execution_count": 16,
      "outputs": []
    },
    {
      "cell_type": "code",
      "source": [
        "y = df['CSAT_Level']\n"
      ],
      "metadata": {
        "id": "b9wzfPpmTLrJ"
      },
      "execution_count": 17,
      "outputs": []
    },
    {
      "cell_type": "code",
      "source": [
        "from sklearn.model_selection import train_test_split\n",
        "\n",
        "X = df.drop(columns=['CSAT Score', 'CSAT_Level', 'Unique id'])\n",
        "y = df['CSAT Score'] # Use the original numerical CSAT Score as the target\n",
        "\n",
        "X_train, X_test, y_train, y_test = train_test_split(X, y, test_size=0.2, random_state=42)"
      ],
      "metadata": {
        "id": "LsOXS965TOs0"
      },
      "execution_count": 18,
      "outputs": []
    },
    {
      "cell_type": "code",
      "source": [
        "from sklearn.preprocessing import LabelEncoder\n",
        "\n",
        "X_train = X_train.drop(columns=['order_date_time', 'Issue_reported at', 'issue_responded', 'Customer Remarks', 'Order_id'], errors='ignore')\n",
        "X_test = X_test.drop(columns=['order_date_time', 'Issue_reported at', 'issue_responded', 'Customer Remarks', 'Order_id'], errors='ignore')\n",
        "\n",
        "\n",
        "label_encoders = {}\n",
        "\n",
        "for col in X_train.select_dtypes(include='object').columns:\n",
        "    le = LabelEncoder()\n",
        "    X_train[col] = le.fit_transform(X_train[col].astype(str))\n",
        "\n",
        "    # Replace unseen labels in X_test with a placeholder before transforming\n",
        "    test_unknown_mask = ~X_test[col].astype(str).isin(le.classes_)\n",
        "    X_test[col] = X_test[col].astype(str).mask(test_unknown_mask, 'Unknown')\n",
        "\n",
        "    # Add 'Unknown' to the classes_ if it's not already present and transform\n",
        "    if 'Unknown' not in le.classes_:\n",
        "         le.classes_ = np.append(le.classes_, 'Unknown')\n",
        "\n",
        "    X_test[col] = le.transform(X_test[col].astype(str))\n",
        "    label_encoders[col] = le"
      ],
      "metadata": {
        "id": "E1gae3KfTR-S"
      },
      "execution_count": 19,
      "outputs": []
    },
    {
      "cell_type": "code",
      "source": [
        "from sklearn.ensemble import RandomForestClassifier\n",
        "from sklearn.metrics import accuracy_score\n",
        "\n",
        "model = RandomForestClassifier(n_estimators=200, random_state=42)\n",
        "model.fit(X_train, y_train)\n",
        "\n",
        "y_pred = model.predict(X_test)\n",
        "\n",
        "print(\"Accuracy:\", accuracy_score(y_test, y_pred))"
      ],
      "metadata": {
        "colab": {
          "base_uri": "https://localhost:8080/"
        },
        "id": "3_QtkvYcrZIq",
        "outputId": "b188cc34-dc3b-4984-bf84-e5b892dfe85d"
      },
      "execution_count": 20,
      "outputs": [
        {
          "output_type": "stream",
          "name": "stdout",
          "text": [
            "Accuracy: 0.7126644162495634\n"
          ]
        }
      ]
    },
    {
      "cell_type": "code",
      "source": [
        "importances = pd.Series(model.feature_importances_, index=X_train.columns)\n",
        "print(importances.sort_values(ascending=False))\n"
      ],
      "metadata": {
        "colab": {
          "base_uri": "https://localhost:8080/"
        },
        "id": "OJljsv2pPm26",
        "outputId": "094577ce-c4ec-4540-df49-b6a0f82a80d4"
      },
      "execution_count": 21,
      "outputs": [
        {
          "output_type": "stream",
          "name": "stdout",
          "text": [
            "Agent_name                 0.157188\n",
            "response_time_minutes      0.150731\n",
            "Survey_response_Date       0.136008\n",
            "Supervisor                 0.101703\n",
            "remark_sentiment           0.081026\n",
            "Sub-category               0.071413\n",
            "remark_length              0.051777\n",
            "Manager                    0.038661\n",
            "Tenure Bucket              0.035307\n",
            "Agent Shift                0.033751\n",
            "category                   0.031193\n",
            "Item_price                 0.027246\n",
            "channel_name               0.026582\n",
            "Customer_City              0.024462\n",
            "order_hour                 0.020261\n",
            "Product_category           0.012103\n",
            "connected_handling_time    0.000590\n",
            "was_order_related          0.000000\n",
            "has_remarks                0.000000\n",
            "dtype: float64\n"
          ]
        }
      ]
    },
    {
      "cell_type": "markdown",
      "source": [
        "# **Predicting the scores using Logistic Regression**"
      ],
      "metadata": {
        "id": "S8LxsX1sHoPU"
      }
    },
    {
      "cell_type": "code",
      "source": [
        "from vaderSentiment.vaderSentiment import SentimentIntensityAnalyzer\n",
        "\n",
        "analyzer = SentimentIntensityAnalyzer()\n",
        "\n",
        "df['remark_sentiment'] = df['Customer Remarks'].astype(str).apply(\n",
        "    lambda x: analyzer.polarity_scores(x)['compound']\n",
        ")\n",
        "X_train_lr = X_train.fillna(X_train.mean(numeric_only=True))\n",
        "X_test_lr = X_test.fillna(X_test.mean(numeric_only=True))\n",
        "\n"
      ],
      "metadata": {
        "id": "VgMcvFPFWHGn"
      },
      "execution_count": 22,
      "outputs": []
    },
    {
      "cell_type": "code",
      "source": [
        "from sklearn.linear_model import LogisticRegression\n",
        "from sklearn.metrics import accuracy_score\n",
        "\n",
        "# Drop the datetime columns from X_train and X_test\n",
        "lr_model = LogisticRegression(max_iter=1000, multi_class='multinomial', solver='lbfgs')\n",
        "lr_model.fit(X_train_lr, y_train)\n",
        "y_pred_lr = lr_model.predict(X_test_lr)\n",
        "print(\"Accuracy:\", accuracy_score(y_test, y_pred_lr))\n"
      ],
      "metadata": {
        "colab": {
          "base_uri": "https://localhost:8080/"
        },
        "id": "o_YxynF8HmoT",
        "outputId": "2162fd8f-637c-4a89-c838-b5dc2ce34a1e"
      },
      "execution_count": 23,
      "outputs": [
        {
          "output_type": "stream",
          "name": "stderr",
          "text": [
            "/usr/local/lib/python3.11/dist-packages/sklearn/linear_model/_logistic.py:1247: FutureWarning: 'multi_class' was deprecated in version 1.5 and will be removed in 1.7. From then on, it will always use 'multinomial'. Leave it to its default value to avoid this warning.\n",
            "  warnings.warn(\n"
          ]
        },
        {
          "output_type": "stream",
          "name": "stdout",
          "text": [
            "Accuracy: 0.6975905016878128\n"
          ]
        },
        {
          "output_type": "stream",
          "name": "stderr",
          "text": [
            "/usr/local/lib/python3.11/dist-packages/sklearn/linear_model/_logistic.py:465: ConvergenceWarning: lbfgs failed to converge (status=1):\n",
            "STOP: TOTAL NO. OF ITERATIONS REACHED LIMIT.\n",
            "\n",
            "Increase the number of iterations (max_iter) or scale the data as shown in:\n",
            "    https://scikit-learn.org/stable/modules/preprocessing.html\n",
            "Please also refer to the documentation for alternative solver options:\n",
            "    https://scikit-learn.org/stable/modules/linear_model.html#logistic-regression\n",
            "  n_iter_i = _check_optimize_result(\n"
          ]
        }
      ]
    },
    {
      "cell_type": "markdown",
      "source": [
        "# **Predicting the scores using Histogram Gradient Boosting Classifier**\n",
        "\n",
        "HistGradientBoostingClassifier is a variant of Gradient Boosting Classifier. It is much faster than Gradient Boosting Classifier for handling data greater than 100 samples. The estimator has native support for NaN values as well."
      ],
      "metadata": {
        "id": "q1NDf3dwKFei"
      }
    },
    {
      "cell_type": "code",
      "source": [
        "from sklearn.ensemble import HistGradientBoostingClassifier\n",
        "from sklearn.metrics import accuracy_score\n",
        "\n",
        "# Train the model\n",
        "hgb_model = HistGradientBoostingClassifier(random_state=42)\n",
        "hgb_model.fit(X_train, y_train)\n",
        "\n",
        "hgb_pred = hgb_model.predict(X_test)\n",
        "print(\"Accuracy:\", accuracy_score(y_test, hgb_pred))\n"
      ],
      "metadata": {
        "colab": {
          "base_uri": "https://localhost:8080/"
        },
        "id": "P_SAr006KEoh",
        "outputId": "47fd2f91-0e80-4200-8404-7400618124eb"
      },
      "execution_count": 24,
      "outputs": [
        {
          "output_type": "stream",
          "name": "stdout",
          "text": [
            "Accuracy: 0.7229658945407985\n"
          ]
        }
      ]
    },
    {
      "cell_type": "markdown",
      "source": [
        "# **Comparing the accuracy metrics for the models**\n",
        "Root Mean Squared Error is a evaluation metric that is used for regression models. It is the square root of mean squared error(the avg. squared difference between predicted and actual values).\n",
        "\n",
        "R2 is an evaluation metric that signifies the proportion of variation between the dependent and the independent variable. It tells how correctly the model has predicted the values. A higher R2 value suggest a better fit."
      ],
      "metadata": {
        "id": "f2gdzExxLq7o"
      }
    },
    {
      "cell_type": "code",
      "source": [
        "from sklearn.metrics import accuracy_score, precision_score, recall_score, f1_score\n",
        "\n",
        "# Create a function to evaluate a model\n",
        "def evaluate_model(y_true, y_pred):\n",
        "    return {\n",
        "        'Accuracy': accuracy_score(y_true, y_pred),\n",
        "        'Precision': precision_score(y_true, y_pred, average='weighted', zero_division=0),\n",
        "        'Recall': recall_score(y_true, y_pred, average='weighted'),\n",
        "        'F1 Score': f1_score(y_true, y_pred, average='weighted')\n",
        "    }\n",
        "\n",
        "# Evaluate all models\n",
        "rf_metrics = evaluate_model(y_test, y_pred)\n",
        "lr_metrics = evaluate_model(y_test, y_pred_lr)\n",
        "hgb_metrics = evaluate_model(y_test, hgb_pred)\n",
        "\n",
        "# Create results DataFrame\n",
        "results = pd.DataFrame([\n",
        "    {'Model': 'Random Forest', **rf_metrics},\n",
        "    {'Model': 'Logistic Regression', **lr_metrics},\n",
        "    {'Model': 'HistGradientBoosting', **hgb_metrics}\n",
        "])\n",
        "\n",
        "# Sort by highest Accuracy (or any other metric)\n",
        "results = results.sort_values(by='Accuracy', ascending=False)\n",
        "\n",
        "# Display the table\n",
        "print(results)\n"
      ],
      "metadata": {
        "colab": {
          "base_uri": "https://localhost:8080/"
        },
        "id": "PYMcoV4FuSM_",
        "outputId": "767d2556-534c-48d3-af85-1a548e7d4762"
      },
      "execution_count": 26,
      "outputs": [
        {
          "output_type": "stream",
          "name": "stdout",
          "text": [
            "                  Model  Accuracy  Precision    Recall  F1 Score\n",
            "2  HistGradientBoosting  0.722966   0.589284  0.722966  0.637924\n",
            "0         Random Forest  0.712664   0.604316  0.712664  0.633016\n",
            "1   Logistic Regression  0.697591   0.550169  0.697591  0.588110\n"
          ]
        }
      ]
    },
    {
      "cell_type": "markdown",
      "source": [
        "To add further business logic, the following code checks if the predicted CSAT score is <3 then recommedation is sent to senior agent for handling the crisis."
      ],
      "metadata": {
        "id": "Sl_FgXIIl-5D"
      }
    },
    {
      "cell_type": "code",
      "source": [
        "X_test['Predicted CSAT'] = y_pred\n",
        "X_test['Escalation Recommended'] = X_test['Predicted CSAT'].apply(lambda x: 'Yes' if x < 3 else 'No')\n"
      ],
      "metadata": {
        "id": "y9Q6L981JrQa"
      },
      "execution_count": 27,
      "outputs": []
    },
    {
      "cell_type": "code",
      "source": [
        "# Display top 10 cases with predicted CSAT and escalation flag\n",
        "X_test_display = X_test.copy()\n",
        "X_test_display['Actual CSAT'] = y_test.values  # Add actual CSAT for comparison\n",
        "\n",
        "# Show relevant columns\n",
        "X_test_display[['Predicted CSAT', 'Actual CSAT', 'Escalation Recommended']].head(10)\n"
      ],
      "metadata": {
        "colab": {
          "base_uri": "https://localhost:8080/",
          "height": 363
        },
        "id": "l1e4lftSkwO6",
        "outputId": "1767e28a-1c85-4897-dd6b-d7dccd01f434"
      },
      "execution_count": 28,
      "outputs": [
        {
          "output_type": "execute_result",
          "data": {
            "text/plain": [
              "       Predicted CSAT  Actual CSAT Escalation Recommended\n",
              "67871               5            5                     No\n",
              "40187               5            5                     No\n",
              "60075               5            5                     No\n",
              "69560               5            5                     No\n",
              "2605                5            5                     No\n",
              "73327               5            5                     No\n",
              "4382                5            1                     No\n",
              "10405               5            5                     No\n",
              "24494               5            5                     No\n",
              "5473                5            1                     No"
            ],
            "text/html": [
              "\n",
              "  <div id=\"df-b710b91f-bc4d-4343-8564-afc247e016ff\" class=\"colab-df-container\">\n",
              "    <div>\n",
              "<style scoped>\n",
              "    .dataframe tbody tr th:only-of-type {\n",
              "        vertical-align: middle;\n",
              "    }\n",
              "\n",
              "    .dataframe tbody tr th {\n",
              "        vertical-align: top;\n",
              "    }\n",
              "\n",
              "    .dataframe thead th {\n",
              "        text-align: right;\n",
              "    }\n",
              "</style>\n",
              "<table border=\"1\" class=\"dataframe\">\n",
              "  <thead>\n",
              "    <tr style=\"text-align: right;\">\n",
              "      <th></th>\n",
              "      <th>Predicted CSAT</th>\n",
              "      <th>Actual CSAT</th>\n",
              "      <th>Escalation Recommended</th>\n",
              "    </tr>\n",
              "  </thead>\n",
              "  <tbody>\n",
              "    <tr>\n",
              "      <th>67871</th>\n",
              "      <td>5</td>\n",
              "      <td>5</td>\n",
              "      <td>No</td>\n",
              "    </tr>\n",
              "    <tr>\n",
              "      <th>40187</th>\n",
              "      <td>5</td>\n",
              "      <td>5</td>\n",
              "      <td>No</td>\n",
              "    </tr>\n",
              "    <tr>\n",
              "      <th>60075</th>\n",
              "      <td>5</td>\n",
              "      <td>5</td>\n",
              "      <td>No</td>\n",
              "    </tr>\n",
              "    <tr>\n",
              "      <th>69560</th>\n",
              "      <td>5</td>\n",
              "      <td>5</td>\n",
              "      <td>No</td>\n",
              "    </tr>\n",
              "    <tr>\n",
              "      <th>2605</th>\n",
              "      <td>5</td>\n",
              "      <td>5</td>\n",
              "      <td>No</td>\n",
              "    </tr>\n",
              "    <tr>\n",
              "      <th>73327</th>\n",
              "      <td>5</td>\n",
              "      <td>5</td>\n",
              "      <td>No</td>\n",
              "    </tr>\n",
              "    <tr>\n",
              "      <th>4382</th>\n",
              "      <td>5</td>\n",
              "      <td>1</td>\n",
              "      <td>No</td>\n",
              "    </tr>\n",
              "    <tr>\n",
              "      <th>10405</th>\n",
              "      <td>5</td>\n",
              "      <td>5</td>\n",
              "      <td>No</td>\n",
              "    </tr>\n",
              "    <tr>\n",
              "      <th>24494</th>\n",
              "      <td>5</td>\n",
              "      <td>5</td>\n",
              "      <td>No</td>\n",
              "    </tr>\n",
              "    <tr>\n",
              "      <th>5473</th>\n",
              "      <td>5</td>\n",
              "      <td>1</td>\n",
              "      <td>No</td>\n",
              "    </tr>\n",
              "  </tbody>\n",
              "</table>\n",
              "</div>\n",
              "    <div class=\"colab-df-buttons\">\n",
              "\n",
              "  <div class=\"colab-df-container\">\n",
              "    <button class=\"colab-df-convert\" onclick=\"convertToInteractive('df-b710b91f-bc4d-4343-8564-afc247e016ff')\"\n",
              "            title=\"Convert this dataframe to an interactive table.\"\n",
              "            style=\"display:none;\">\n",
              "\n",
              "  <svg xmlns=\"http://www.w3.org/2000/svg\" height=\"24px\" viewBox=\"0 -960 960 960\">\n",
              "    <path d=\"M120-120v-720h720v720H120Zm60-500h600v-160H180v160Zm220 220h160v-160H400v160Zm0 220h160v-160H400v160ZM180-400h160v-160H180v160Zm440 0h160v-160H620v160ZM180-180h160v-160H180v160Zm440 0h160v-160H620v160Z\"/>\n",
              "  </svg>\n",
              "    </button>\n",
              "\n",
              "  <style>\n",
              "    .colab-df-container {\n",
              "      display:flex;\n",
              "      gap: 12px;\n",
              "    }\n",
              "\n",
              "    .colab-df-convert {\n",
              "      background-color: #E8F0FE;\n",
              "      border: none;\n",
              "      border-radius: 50%;\n",
              "      cursor: pointer;\n",
              "      display: none;\n",
              "      fill: #1967D2;\n",
              "      height: 32px;\n",
              "      padding: 0 0 0 0;\n",
              "      width: 32px;\n",
              "    }\n",
              "\n",
              "    .colab-df-convert:hover {\n",
              "      background-color: #E2EBFA;\n",
              "      box-shadow: 0px 1px 2px rgba(60, 64, 67, 0.3), 0px 1px 3px 1px rgba(60, 64, 67, 0.15);\n",
              "      fill: #174EA6;\n",
              "    }\n",
              "\n",
              "    .colab-df-buttons div {\n",
              "      margin-bottom: 4px;\n",
              "    }\n",
              "\n",
              "    [theme=dark] .colab-df-convert {\n",
              "      background-color: #3B4455;\n",
              "      fill: #D2E3FC;\n",
              "    }\n",
              "\n",
              "    [theme=dark] .colab-df-convert:hover {\n",
              "      background-color: #434B5C;\n",
              "      box-shadow: 0px 1px 3px 1px rgba(0, 0, 0, 0.15);\n",
              "      filter: drop-shadow(0px 1px 2px rgba(0, 0, 0, 0.3));\n",
              "      fill: #FFFFFF;\n",
              "    }\n",
              "  </style>\n",
              "\n",
              "    <script>\n",
              "      const buttonEl =\n",
              "        document.querySelector('#df-b710b91f-bc4d-4343-8564-afc247e016ff button.colab-df-convert');\n",
              "      buttonEl.style.display =\n",
              "        google.colab.kernel.accessAllowed ? 'block' : 'none';\n",
              "\n",
              "      async function convertToInteractive(key) {\n",
              "        const element = document.querySelector('#df-b710b91f-bc4d-4343-8564-afc247e016ff');\n",
              "        const dataTable =\n",
              "          await google.colab.kernel.invokeFunction('convertToInteractive',\n",
              "                                                    [key], {});\n",
              "        if (!dataTable) return;\n",
              "\n",
              "        const docLinkHtml = 'Like what you see? Visit the ' +\n",
              "          '<a target=\"_blank\" href=https://colab.research.google.com/notebooks/data_table.ipynb>data table notebook</a>'\n",
              "          + ' to learn more about interactive tables.';\n",
              "        element.innerHTML = '';\n",
              "        dataTable['output_type'] = 'display_data';\n",
              "        await google.colab.output.renderOutput(dataTable, element);\n",
              "        const docLink = document.createElement('div');\n",
              "        docLink.innerHTML = docLinkHtml;\n",
              "        element.appendChild(docLink);\n",
              "      }\n",
              "    </script>\n",
              "  </div>\n",
              "\n",
              "\n",
              "    <div id=\"df-aa6e9262-7d49-4217-8e20-5d81deefdf1e\">\n",
              "      <button class=\"colab-df-quickchart\" onclick=\"quickchart('df-aa6e9262-7d49-4217-8e20-5d81deefdf1e')\"\n",
              "                title=\"Suggest charts\"\n",
              "                style=\"display:none;\">\n",
              "\n",
              "<svg xmlns=\"http://www.w3.org/2000/svg\" height=\"24px\"viewBox=\"0 0 24 24\"\n",
              "     width=\"24px\">\n",
              "    <g>\n",
              "        <path d=\"M19 3H5c-1.1 0-2 .9-2 2v14c0 1.1.9 2 2 2h14c1.1 0 2-.9 2-2V5c0-1.1-.9-2-2-2zM9 17H7v-7h2v7zm4 0h-2V7h2v10zm4 0h-2v-4h2v4z\"/>\n",
              "    </g>\n",
              "</svg>\n",
              "      </button>\n",
              "\n",
              "<style>\n",
              "  .colab-df-quickchart {\n",
              "      --bg-color: #E8F0FE;\n",
              "      --fill-color: #1967D2;\n",
              "      --hover-bg-color: #E2EBFA;\n",
              "      --hover-fill-color: #174EA6;\n",
              "      --disabled-fill-color: #AAA;\n",
              "      --disabled-bg-color: #DDD;\n",
              "  }\n",
              "\n",
              "  [theme=dark] .colab-df-quickchart {\n",
              "      --bg-color: #3B4455;\n",
              "      --fill-color: #D2E3FC;\n",
              "      --hover-bg-color: #434B5C;\n",
              "      --hover-fill-color: #FFFFFF;\n",
              "      --disabled-bg-color: #3B4455;\n",
              "      --disabled-fill-color: #666;\n",
              "  }\n",
              "\n",
              "  .colab-df-quickchart {\n",
              "    background-color: var(--bg-color);\n",
              "    border: none;\n",
              "    border-radius: 50%;\n",
              "    cursor: pointer;\n",
              "    display: none;\n",
              "    fill: var(--fill-color);\n",
              "    height: 32px;\n",
              "    padding: 0;\n",
              "    width: 32px;\n",
              "  }\n",
              "\n",
              "  .colab-df-quickchart:hover {\n",
              "    background-color: var(--hover-bg-color);\n",
              "    box-shadow: 0 1px 2px rgba(60, 64, 67, 0.3), 0 1px 3px 1px rgba(60, 64, 67, 0.15);\n",
              "    fill: var(--button-hover-fill-color);\n",
              "  }\n",
              "\n",
              "  .colab-df-quickchart-complete:disabled,\n",
              "  .colab-df-quickchart-complete:disabled:hover {\n",
              "    background-color: var(--disabled-bg-color);\n",
              "    fill: var(--disabled-fill-color);\n",
              "    box-shadow: none;\n",
              "  }\n",
              "\n",
              "  .colab-df-spinner {\n",
              "    border: 2px solid var(--fill-color);\n",
              "    border-color: transparent;\n",
              "    border-bottom-color: var(--fill-color);\n",
              "    animation:\n",
              "      spin 1s steps(1) infinite;\n",
              "  }\n",
              "\n",
              "  @keyframes spin {\n",
              "    0% {\n",
              "      border-color: transparent;\n",
              "      border-bottom-color: var(--fill-color);\n",
              "      border-left-color: var(--fill-color);\n",
              "    }\n",
              "    20% {\n",
              "      border-color: transparent;\n",
              "      border-left-color: var(--fill-color);\n",
              "      border-top-color: var(--fill-color);\n",
              "    }\n",
              "    30% {\n",
              "      border-color: transparent;\n",
              "      border-left-color: var(--fill-color);\n",
              "      border-top-color: var(--fill-color);\n",
              "      border-right-color: var(--fill-color);\n",
              "    }\n",
              "    40% {\n",
              "      border-color: transparent;\n",
              "      border-right-color: var(--fill-color);\n",
              "      border-top-color: var(--fill-color);\n",
              "    }\n",
              "    60% {\n",
              "      border-color: transparent;\n",
              "      border-right-color: var(--fill-color);\n",
              "    }\n",
              "    80% {\n",
              "      border-color: transparent;\n",
              "      border-right-color: var(--fill-color);\n",
              "      border-bottom-color: var(--fill-color);\n",
              "    }\n",
              "    90% {\n",
              "      border-color: transparent;\n",
              "      border-bottom-color: var(--fill-color);\n",
              "    }\n",
              "  }\n",
              "</style>\n",
              "\n",
              "      <script>\n",
              "        async function quickchart(key) {\n",
              "          const quickchartButtonEl =\n",
              "            document.querySelector('#' + key + ' button');\n",
              "          quickchartButtonEl.disabled = true;  // To prevent multiple clicks.\n",
              "          quickchartButtonEl.classList.add('colab-df-spinner');\n",
              "          try {\n",
              "            const charts = await google.colab.kernel.invokeFunction(\n",
              "                'suggestCharts', [key], {});\n",
              "          } catch (error) {\n",
              "            console.error('Error during call to suggestCharts:', error);\n",
              "          }\n",
              "          quickchartButtonEl.classList.remove('colab-df-spinner');\n",
              "          quickchartButtonEl.classList.add('colab-df-quickchart-complete');\n",
              "        }\n",
              "        (() => {\n",
              "          let quickchartButtonEl =\n",
              "            document.querySelector('#df-aa6e9262-7d49-4217-8e20-5d81deefdf1e button');\n",
              "          quickchartButtonEl.style.display =\n",
              "            google.colab.kernel.accessAllowed ? 'block' : 'none';\n",
              "        })();\n",
              "      </script>\n",
              "    </div>\n",
              "\n",
              "    </div>\n",
              "  </div>\n"
            ],
            "application/vnd.google.colaboratory.intrinsic+json": {
              "type": "dataframe",
              "summary": "{\n  \"name\": \"X_test_display[['Predicted CSAT', 'Actual CSAT', 'Escalation Recommended']]\",\n  \"rows\": 10,\n  \"fields\": [\n    {\n      \"column\": \"Predicted CSAT\",\n      \"properties\": {\n        \"dtype\": \"number\",\n        \"std\": 0,\n        \"min\": 5,\n        \"max\": 5,\n        \"num_unique_values\": 1,\n        \"samples\": [\n          5\n        ],\n        \"semantic_type\": \"\",\n        \"description\": \"\"\n      }\n    },\n    {\n      \"column\": \"Actual CSAT\",\n      \"properties\": {\n        \"dtype\": \"number\",\n        \"std\": 1,\n        \"min\": 1,\n        \"max\": 5,\n        \"num_unique_values\": 2,\n        \"samples\": [\n          1\n        ],\n        \"semantic_type\": \"\",\n        \"description\": \"\"\n      }\n    },\n    {\n      \"column\": \"Escalation Recommended\",\n      \"properties\": {\n        \"dtype\": \"category\",\n        \"num_unique_values\": 1,\n        \"samples\": [\n          \"No\"\n        ],\n        \"semantic_type\": \"\",\n        \"description\": \"\"\n      }\n    }\n  ]\n}"
            }
          },
          "metadata": {},
          "execution_count": 28
        }
      ]
    },
    {
      "cell_type": "markdown",
      "source": [
        "# **Plot for Escalation Recommende tickets vs No of Cases**"
      ],
      "metadata": {
        "id": "0iwh4qKn1MSu"
      }
    },
    {
      "cell_type": "code",
      "source": [
        "plt.figure(figsize=(6, 4))\n",
        "sns.countplot(x='Escalation Recommended', data=X_test)\n",
        "plt.title(\"Number of Escalation-Recommended Tickets\", fontsize=14, fontweight='bold')\n",
        "plt.xlabel(\"Escalation Needed\",fontweight='bold')\n",
        "plt.ylabel(\"Number of Cases\",fontweight='bold')\n",
        "plt.tight_layout()\n",
        "plt.show()\n"
      ],
      "metadata": {
        "colab": {
          "base_uri": "https://localhost:8080/",
          "height": 407
        },
        "id": "5WnCPiK1lMOH",
        "outputId": "91f4b35a-874a-4ce0-971f-0214e5ce2959"
      },
      "execution_count": 29,
      "outputs": [
        {
          "output_type": "display_data",
          "data": {
            "text/plain": [
              "<Figure size 600x400 with 1 Axes>"
            ],
            "image/png": "[encoded data removed]"
          },
          "metadata": {}
        }
      ]
    },
    {
      "cell_type": "markdown",
      "source": [
        "Here if the response time taken by agents is > 45 minutes then training should be given so that they can handle the issues efficiently in less amount of time."
      ],
      "metadata": {
        "id": "orkGqLFKmnoH"
      }
    },
    {
      "cell_type": "code",
      "source": [
        "# Group by agent and calculate average response time\n",
        "agent_response = df.groupby('Agent_name')['response_time_minutes'].mean().reset_index()\n",
        "\n",
        "# Flag for training\n",
        "agent_response['Flag for Training'] = agent_response['response_time_minutes'].apply(\n",
        "    lambda x: 'Yes' if x > 45 else 'No'\n",
        ")\n",
        "\n",
        "# Show top 10\n",
        "agent_response[['Agent_name', 'response_time_minutes', 'Flag for Training']].head(10)"
      ],
      "metadata": {
        "colab": {
          "base_uri": "https://localhost:8080/",
          "height": 363
        },
        "id": "ckUpMCsapFOr",
        "outputId": "2319ced0-a569-4089-c72d-8862dfc6bc90"
      },
      "execution_count": 31,
      "outputs": [
        {
          "output_type": "execute_result",
          "data": {
            "text/plain": [
              "         Agent_name  response_time_minutes Flag for Training\n",
              "0     Aaron Edwards             194.268817               Yes\n",
              "1      Aaron Romero              20.016949                No\n",
              "2  Abigail Gonzalez             -53.680000                No\n",
              "3      Adam Barnett             -38.892857                No\n",
              "4      Adam Hammond             127.983333               Yes\n",
              "5    Adam Henderson              78.421053               Yes\n",
              "6    Adam Hernandez             165.986111               Yes\n",
              "7     Adam Schwartz               2.129870                No\n",
              "8       Adam Torres              61.903614               Yes\n",
              "9     Adrian Branch              94.697674               Yes"
            ],
            "text/html": [
              "\n",
              "  <div id=\"df-0d1da45f-090a-440d-b1fb-2b416dd76e9e\" class=\"colab-df-container\">\n",
              "    <div>\n",
              "<style scoped>\n",
              "    .dataframe tbody tr th:only-of-type {\n",
              "        vertical-align: middle;\n",
              "    }\n",
              "\n",
              "    .dataframe tbody tr th {\n",
              "        vertical-align: top;\n",
              "    }\n",
              "\n",
              "    .dataframe thead th {\n",
              "        text-align: right;\n",
              "    }\n",
              "</style>\n",
              "<table border=\"1\" class=\"dataframe\">\n",
              "  <thead>\n",
              "    <tr style=\"text-align: right;\">\n",
              "      <th></th>\n",
              "      <th>Agent_name</th>\n",
              "      <th>response_time_minutes</th>\n",
              "      <th>Flag for Training</th>\n",
              "    </tr>\n",
              "  </thead>\n",
              "  <tbody>\n",
              "    <tr>\n",
              "      <th>0</th>\n",
              "      <td>Aaron Edwards</td>\n",
              "      <td>194.268817</td>\n",
              "      <td>Yes</td>\n",
              "    </tr>\n",
              "    <tr>\n",
              "      <th>1</th>\n",
              "      <td>Aaron Romero</td>\n",
              "      <td>20.016949</td>\n",
              "      <td>No</td>\n",
              "    </tr>\n",
              "    <tr>\n",
              "      <th>2</th>\n",
              "      <td>Abigail Gonzalez</td>\n",
              "      <td>-53.680000</td>\n",
              "      <td>No</td>\n",
              "    </tr>\n",
              "    <tr>\n",
              "      <th>3</th>\n",
              "      <td>Adam Barnett</td>\n",
              "      <td>-38.892857</td>\n",
              "      <td>No</td>\n",
              "    </tr>\n",
              "    <tr>\n",
              "      <th>4</th>\n",
              "      <td>Adam Hammond</td>\n",
              "      <td>127.983333</td>\n",
              "      <td>Yes</td>\n",
              "    </tr>\n",
              "    <tr>\n",
              "      <th>5</th>\n",
              "      <td>Adam Henderson</td>\n",
              "      <td>78.421053</td>\n",
              "      <td>Yes</td>\n",
              "    </tr>\n",
              "    <tr>\n",
              "      <th>6</th>\n",
              "      <td>Adam Hernandez</td>\n",
              "      <td>165.986111</td>\n",
              "      <td>Yes</td>\n",
              "    </tr>\n",
              "    <tr>\n",
              "      <th>7</th>\n",
              "      <td>Adam Schwartz</td>\n",
              "      <td>2.129870</td>\n",
              "      <td>No</td>\n",
              "    </tr>\n",
              "    <tr>\n",
              "      <th>8</th>\n",
              "      <td>Adam Torres</td>\n",
              "      <td>61.903614</td>\n",
              "      <td>Yes</td>\n",
              "    </tr>\n",
              "    <tr>\n",
              "      <th>9</th>\n",
              "      <td>Adrian Branch</td>\n",
              "      <td>94.697674</td>\n",
              "      <td>Yes</td>\n",
              "    </tr>\n",
              "  </tbody>\n",
              "</table>\n",
              "</div>\n",
              "    <div class=\"colab-df-buttons\">\n",
              "\n",
              "  <div class=\"colab-df-container\">\n",
              "    <button class=\"colab-df-convert\" onclick=\"convertToInteractive('df-0d1da45f-090a-440d-b1fb-2b416dd76e9e')\"\n",
              "            title=\"Convert this dataframe to an interactive table.\"\n",
              "            style=\"display:none;\">\n",
              "\n",
              "  <svg xmlns=\"http://www.w3.org/2000/svg\" height=\"24px\" viewBox=\"0 -960 960 960\">\n",
              "    <path d=\"M120-120v-720h720v720H120Zm60-500h600v-160H180v160Zm220 220h160v-160H400v160Zm0 220h160v-160H400v160ZM180-400h160v-160H180v160Zm440 0h160v-160H620v160ZM180-180h160v-160H180v160Zm440 0h160v-160H620v160Z\"/>\n",
              "  </svg>\n",
              "    </button>\n",
              "\n",
              "  <style>\n",
              "    .colab-df-container {\n",
              "      display:flex;\n",
              "      gap: 12px;\n",
              "    }\n",
              "\n",
              "    .colab-df-convert {\n",
              "      background-color: #E8F0FE;\n",
              "      border: none;\n",
              "      border-radius: 50%;\n",
              "      cursor: pointer;\n",
              "      display: none;\n",
              "      fill: #1967D2;\n",
              "      height: 32px;\n",
              "      padding: 0 0 0 0;\n",
              "      width: 32px;\n",
              "    }\n",
              "\n",
              "    .colab-df-convert:hover {\n",
              "      background-color: #E2EBFA;\n",
              "      box-shadow: 0px 1px 2px rgba(60, 64, 67, 0.3), 0px 1px 3px 1px rgba(60, 64, 67, 0.15);\n",
              "      fill: #174EA6;\n",
              "    }\n",
              "\n",
              "    .colab-df-buttons div {\n",
              "      margin-bottom: 4px;\n",
              "    }\n",
              "\n",
              "    [theme=dark] .colab-df-convert {\n",
              "      background-color: #3B4455;\n",
              "      fill: #D2E3FC;\n",
              "    }\n",
              "\n",
              "    [theme=dark] .colab-df-convert:hover {\n",
              "      background-color: #434B5C;\n",
              "      box-shadow: 0px 1px 3px 1px rgba(0, 0, 0, 0.15);\n",
              "      filter: drop-shadow(0px 1px 2px rgba(0, 0, 0, 0.3));\n",
              "      fill: #FFFFFF;\n",
              "    }\n",
              "  </style>\n",
              "\n",
              "    <script>\n",
              "      const buttonEl =\n",
              "        document.querySelector('#df-0d1da45f-090a-440d-b1fb-2b416dd76e9e button.colab-df-convert');\n",
              "      buttonEl.style.display =\n",
              "        google.colab.kernel.accessAllowed ? 'block' : 'none';\n",
              "\n",
              "      async function convertToInteractive(key) {\n",
              "        const element = document.querySelector('#df-0d1da45f-090a-440d-b1fb-2b416dd76e9e');\n",
              "        const dataTable =\n",
              "          await google.colab.kernel.invokeFunction('convertToInteractive',\n",
              "                                                    [key], {});\n",
              "        if (!dataTable) return;\n",
              "\n",
              "        const docLinkHtml = 'Like what you see? Visit the ' +\n",
              "          '<a target=\"_blank\" href=https://colab.research.google.com/notebooks/data_table.ipynb>data table notebook</a>'\n",
              "          + ' to learn more about interactive tables.';\n",
              "        element.innerHTML = '';\n",
              "        dataTable['output_type'] = 'display_data';\n",
              "        await google.colab.output.renderOutput(dataTable, element);\n",
              "        const docLink = document.createElement('div');\n",
              "        docLink.innerHTML = docLinkHtml;\n",
              "        element.appendChild(docLink);\n",
              "      }\n",
              "    </script>\n",
              "  </div>\n",
              "\n",
              "\n",
              "    <div id=\"df-199c4a70-6a7e-44b4-a980-485b2cda1b03\">\n",
              "      <button class=\"colab-df-quickchart\" onclick=\"quickchart('df-199c4a70-6a7e-44b4-a980-485b2cda1b03')\"\n",
              "                title=\"Suggest charts\"\n",
              "                style=\"display:none;\">\n",
              "\n",
              "<svg xmlns=\"http://www.w3.org/2000/svg\" height=\"24px\"viewBox=\"0 0 24 24\"\n",
              "     width=\"24px\">\n",
              "    <g>\n",
              "        <path d=\"M19 3H5c-1.1 0-2 .9-2 2v14c0 1.1.9 2 2 2h14c1.1 0 2-.9 2-2V5c0-1.1-.9-2-2-2zM9 17H7v-7h2v7zm4 0h-2V7h2v10zm4 0h-2v-4h2v4z\"/>\n",
              "    </g>\n",
              "</svg>\n",
              "      </button>\n",
              "\n",
              "<style>\n",
              "  .colab-df-quickchart {\n",
              "      --bg-color: #E8F0FE;\n",
              "      --fill-color: #1967D2;\n",
              "      --hover-bg-color: #E2EBFA;\n",
              "      --hover-fill-color: #174EA6;\n",
              "      --disabled-fill-color: #AAA;\n",
              "      --disabled-bg-color: #DDD;\n",
              "  }\n",
              "\n",
              "  [theme=dark] .colab-df-quickchart {\n",
              "      --bg-color: #3B4455;\n",
              "      --fill-color: #D2E3FC;\n",
              "      --hover-bg-color: #434B5C;\n",
              "      --hover-fill-color: #FFFFFF;\n",
              "      --disabled-bg-color: #3B4455;\n",
              "      --disabled-fill-color: #666;\n",
              "  }\n",
              "\n",
              "  .colab-df-quickchart {\n",
              "    background-color: var(--bg-color);\n",
              "    border: none;\n",
              "    border-radius: 50%;\n",
              "    cursor: pointer;\n",
              "    display: none;\n",
              "    fill: var(--fill-color);\n",
              "    height: 32px;\n",
              "    padding: 0;\n",
              "    width: 32px;\n",
              "  }\n",
              "\n",
              "  .colab-df-quickchart:hover {\n",
              "    background-color: var(--hover-bg-color);\n",
              "    box-shadow: 0 1px 2px rgba(60, 64, 67, 0.3), 0 1px 3px 1px rgba(60, 64, 67, 0.15);\n",
              "    fill: var(--button-hover-fill-color);\n",
              "  }\n",
              "\n",
              "  .colab-df-quickchart-complete:disabled,\n",
              "  .colab-df-quickchart-complete:disabled:hover {\n",
              "    background-color: var(--disabled-bg-color);\n",
              "    fill: var(--disabled-fill-color);\n",
              "    box-shadow: none;\n",
              "  }\n",
              "\n",
              "  .colab-df-spinner {\n",
              "    border: 2px solid var(--fill-color);\n",
              "    border-color: transparent;\n",
              "    border-bottom-color: var(--fill-color);\n",
              "    animation:\n",
              "      spin 1s steps(1) infinite;\n",
              "  }\n",
              "\n",
              "  @keyframes spin {\n",
              "    0% {\n",
              "      border-color: transparent;\n",
              "      border-bottom-color: var(--fill-color);\n",
              "      border-left-color: var(--fill-color);\n",
              "    }\n",
              "    20% {\n",
              "      border-color: transparent;\n",
              "      border-left-color: var(--fill-color);\n",
              "      border-top-color: var(--fill-color);\n",
              "    }\n",
              "    30% {\n",
              "      border-color: transparent;\n",
              "      border-left-color: var(--fill-color);\n",
              "      border-top-color: var(--fill-color);\n",
              "      border-right-color: var(--fill-color);\n",
              "    }\n",
              "    40% {\n",
              "      border-color: transparent;\n",
              "      border-right-color: var(--fill-color);\n",
              "      border-top-color: var(--fill-color);\n",
              "    }\n",
              "    60% {\n",
              "      border-color: transparent;\n",
              "      border-right-color: var(--fill-color);\n",
              "    }\n",
              "    80% {\n",
              "      border-color: transparent;\n",
              "      border-right-color: var(--fill-color);\n",
              "      border-bottom-color: var(--fill-color);\n",
              "    }\n",
              "    90% {\n",
              "      border-color: transparent;\n",
              "      border-bottom-color: var(--fill-color);\n",
              "    }\n",
              "  }\n",
              "</style>\n",
              "\n",
              "      <script>\n",
              "        async function quickchart(key) {\n",
              "          const quickchartButtonEl =\n",
              "            document.querySelector('#' + key + ' button');\n",
              "          quickchartButtonEl.disabled = true;  // To prevent multiple clicks.\n",
              "          quickchartButtonEl.classList.add('colab-df-spinner');\n",
              "          try {\n",
              "            const charts = await google.colab.kernel.invokeFunction(\n",
              "                'suggestCharts', [key], {});\n",
              "          } catch (error) {\n",
              "            console.error('Error during call to suggestCharts:', error);\n",
              "          }\n",
              "          quickchartButtonEl.classList.remove('colab-df-spinner');\n",
              "          quickchartButtonEl.classList.add('colab-df-quickchart-complete');\n",
              "        }\n",
              "        (() => {\n",
              "          let quickchartButtonEl =\n",
              "            document.querySelector('#df-199c4a70-6a7e-44b4-a980-485b2cda1b03 button');\n",
              "          quickchartButtonEl.style.display =\n",
              "            google.colab.kernel.accessAllowed ? 'block' : 'none';\n",
              "        })();\n",
              "      </script>\n",
              "    </div>\n",
              "\n",
              "    </div>\n",
              "  </div>\n"
            ],
            "application/vnd.google.colaboratory.intrinsic+json": {
              "type": "dataframe",
              "summary": "{\n  \"name\": \"agent_response[['Agent_name', 'response_time_minutes', 'Flag for Training']]\",\n  \"rows\": 10,\n  \"fields\": [\n    {\n      \"column\": \"Agent_name\",\n      \"properties\": {\n        \"dtype\": \"string\",\n        \"num_unique_values\": 10,\n        \"samples\": [\n          \"Adam Torres\",\n          \"Aaron Romero\",\n          \"Adam Henderson\"\n        ],\n        \"semantic_type\": \"\",\n        \"description\": \"\"\n      }\n    },\n    {\n      \"column\": \"response_time_minutes\",\n      \"properties\": {\n        \"dtype\": \"number\",\n        \"std\": 83.53387797259096,\n        \"min\": -53.68,\n        \"max\": 194.2688172043011,\n        \"num_unique_values\": 10,\n        \"samples\": [\n          61.903614457831324,\n          20.016949152542374,\n          78.42105263157895\n        ],\n        \"semantic_type\": \"\",\n        \"description\": \"\"\n      }\n    },\n    {\n      \"column\": \"Flag for Training\",\n      \"properties\": {\n        \"dtype\": \"category\",\n        \"num_unique_values\": 2,\n        \"samples\": [\n          \"No\",\n          \"Yes\"\n        ],\n        \"semantic_type\": \"\",\n        \"description\": \"\"\n      }\n    }\n  ]\n}"
            }
          },
          "metadata": {},
          "execution_count": 31
        }
      ]
    },
    {
      "cell_type": "markdown",
      "source": [
        "# **Plot for No of Agents with Training Flag vs No of agents**"
      ],
      "metadata": {
        "id": "hhxGLgQe1dbM"
      }
    },
    {
      "cell_type": "code",
      "source": [
        "plt.figure(figsize=(6, 4))\n",
        "sns.countplot(x='Flag for Training', data=agent_response)\n",
        "plt.title(\"Number of Agents with Training Flag\", fontsize=14, fontweight='bold')\n",
        "plt.xlabel(\"Training Flag\",fontweight='bold')\n",
        "plt.ylabel(\"Number of Agents\",fontweight='bold')\n",
        "plt.show()"
      ],
      "metadata": {
        "colab": {
          "base_uri": "https://localhost:8080/",
          "height": 411
        },
        "id": "HwjW1hUelSmb",
        "outputId": "4b3891bb-22c4-4e27-e2d6-333a2da22c4f"
      },
      "execution_count": 32,
      "outputs": [
        {
          "output_type": "display_data",
          "data": {
            "text/plain": [
              "<Figure size 600x400 with 1 Axes>"
            ],
            "image/png": "[encoded data removed]"
          },
          "metadata": {}
        }
      ]
    },
    {
      "cell_type": "markdown",
      "source": [
        "# **Plot for Actual vs Predicted CSAT scores**"
      ],
      "metadata": {
        "id": "z7LxP8_R1lTH"
      }
    },
    {
      "cell_type": "markdown",
      "source": [
        "This plot helps in understanding the actual vs predicted csat scores. It is clear that max of samples havealmost same actual and predicted csat scores same."
      ],
      "metadata": {
        "id": "hSanyR3mwkMd"
      }
    },
    {
      "cell_type": "code",
      "source": [
        "sample_df = pd.DataFrame({\n",
        "    'Actual CSAT': y_test.values[:20],\n",
        "    'Predicted CSAT': y_pred[:20]\n",
        "}).reset_index(drop=True)\n",
        "\n",
        "sample_df.plot(kind='bar', figsize=(14, 6), width=0.8)\n",
        "plt.title(\"Actual vs Predicted CSAT (First 20 Samples)\", fontsize=15, fontweight='bold')\n",
        "plt.xlabel(\"Sample Index\")\n",
        "plt.ylabel(\"CSAT Score\")\n",
        "plt.xticks(rotation=0)\n",
        "plt.legend()\n",
        "plt.grid(True, axis='y', linestyle='--', alpha=0.6)\n",
        "plt.tight_layout()\n",
        "plt.show()\n"
      ],
      "metadata": {
        "colab": {
          "base_uri": "https://localhost:8080/",
          "height": 607
        },
        "id": "IzxXdSVOHWXP",
        "outputId": "9ead810f-9510-4675-c12e-d9339299e44f"
      },
      "execution_count": 34,
      "outputs": [
        {
          "output_type": "display_data",
          "data": {
            "text/plain": [
              "<Figure size 1400x600 with 1 Axes>"
            ],
            "image/png": "[encoded data removed]"
          },
          "metadata": {}
        }
      ]
    }
  ]
}